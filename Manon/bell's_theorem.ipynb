{
 "cells": [
  {
   "cell_type": "code",
   "execution_count": null,
   "id": "41bb4593",
   "metadata": {},
   "outputs": [
    {
     "name": "stdout",
     "output_type": "stream",
     "text": [
      "CHSH S = -2.8284\n",
      "ベルの不等式の限界 2 に対して 破られている\n"
     ]
    }
   ],
   "source": [
    "import numpy as np\n",
    "\n",
    "# ベクトルの内積を計算する関数\n",
    "def quantum_expectation(a, b):\n",
    "    # a, bは3次元単位ベクトル\n",
    "    return -np.dot(a, b)\n",
    "\n",
    "# 測定方向を定義（単位ベクトル）\n",
    "a = np.array([1, 0, 0])\n",
    "a_prime = np.array([0, 1, 0])\n",
    "b = (1/np.sqrt(2)) * np.array([1, 1, 0])\n",
    "b_prime = (1/np.sqrt(2)) * np.array([1, -1, 0])\n",
    "\n",
    "# 期待値を計算\n",
    "E_ab = quantum_expectation(a, b)\n",
    "E_ab_prime = quantum_expectation(a, b_prime)\n",
    "E_a_prime_b = quantum_expectation(a_prime, b)\n",
    "E_a_prime_b_prime = quantum_expectation(a_prime, b_prime)\n",
    "\n",
    "# CHSH値 S を計算\n",
    "S = E_ab + E_ab_prime + E_a_prime_b - E_a_prime_b_prime\n",
    "\n",
    "print(f\"CHSH S = {S:.4f}\")\n",
    "print(f\"ベルの不等式の限界 2 に対して {'破られている' if abs(S) > 2 else '破られていない'}\")\n",
    "\n",
    "\n",
    "#"
   ]
  }
 ],
 "metadata": {
  "kernelspec": {
   "display_name": "base",
   "language": "python",
   "name": "python3"
  },
  "language_info": {
   "codemirror_mode": {
    "name": "ipython",
    "version": 3
   },
   "file_extension": ".py",
   "mimetype": "text/x-python",
   "name": "python",
   "nbconvert_exporter": "python",
   "pygments_lexer": "ipython3",
   "version": "3.12.7"
  }
 },
 "nbformat": 4,
 "nbformat_minor": 5
}
