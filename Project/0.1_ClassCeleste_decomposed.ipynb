{
 "cells": [
  {
   "cell_type": "markdown",
   "metadata": {},
   "source": [
    "## Décomposition en étape mathématique\n",
    "xxx"
   ]
  },
  {
   "cell_type": "code",
   "execution_count": 1,
   "metadata": {},
   "outputs": [
    {
     "name": "stdout",
     "output_type": "stream",
     "text": [
      "Earth: mass=5.97219e+24 kg, position=[0, 0, 0] m, velocity=[0, 0, 0] m/s\n",
      "Moon: mass=7.3477e+22 kg, position=[384400000.0, 0, 0] m, velocity=[0, 1022.0, 0] m/s\n"
     ]
    }
   ],
   "source": [
    "# Step 1: Two Bodies: Earth and Moon (English version)\n",
    "\n",
    "class CelestialBody:\n",
    "    \"\"\"\n",
    "    Represents a celestial body in our simple model.\n",
    "    \"\"\"\n",
    "    def __init__(self, name, mass, position, velocity):\n",
    "        \"\"\"\n",
    "        Parameters:\n",
    "        -----------\n",
    "        name : str\n",
    "            The name of this celestial body (e.g., 'Earth', 'Moon').\n",
    "        mass : float\n",
    "            Mass of the body in kilograms.\n",
    "        position : list\n",
    "            Initial position [x, y, z] in meters.\n",
    "        velocity : list\n",
    "            Initial velocity [vx, vy, vz] in meters per second.\n",
    "        \"\"\"\n",
    "        self.name = name\n",
    "        self.mass = mass\n",
    "        self.position = position[:]   # Copy to avoid side effects\n",
    "        self.velocity = velocity[:]\n",
    "\n",
    "    def __str__(self):\n",
    "        \"\"\"\n",
    "        Returns a readable representation of the object.\n",
    "        \"\"\"\n",
    "        return (f\"{self.name}: mass={self.mass} kg, \"\n",
    "                f\"position={self.position} m, \"\n",
    "                f\"velocity={self.velocity} m/s\")\n",
    "\n",
    "# Define Earth\n",
    "earth = CelestialBody(\n",
    "    name=\"Earth\",\n",
    "    mass=5.97219e24,       # ~5.97219 × 10^24 kg\n",
    "    position=[0, 0, 0],    # Earth at the origin\n",
    "    velocity=[0, 0, 0]     # Earth initially at rest\n",
    ")\n",
    "\n",
    "# Define Moon\n",
    "moon = CelestialBody(\n",
    "    name=\"Moon\",\n",
    "    mass=7.3477e22,        # ~7.3477 × 10^22 kg\n",
    "    position=[3.844e8, 0, 0],   # ~384,400 km from Earth along x-axis\n",
    "    velocity=[0, 1.022e3, 0]    # ~1.022 km/s tangential velocity\n",
    ")\n",
    "\n",
    "# Quick demonstration print\n",
    "print(earth)\n",
    "print(moon)"
   ]
  },
  {
   "cell_type": "markdown",
   "metadata": {},
   "source": [
    "## Step 2\n",
    "gna gna gna"
   ]
  },
  {
   "cell_type": "code",
   "execution_count": null,
   "metadata": {},
   "outputs": [],
   "source": [
    "# STEP 2: Gravitational Force\n",
    "\n",
    "import math\n",
    "\n",
    "# Gravitational constant (SI units: m^3 / (kg * s^2))\n",
    "G = 6.67430e-11\n",
    "\n",
    "class CelestialBody:\n",
    "    \"\"\"\n",
    "    Represents a celestial body (planet, moon, etc.) in a simple model.\n",
    "    \"\"\"\n",
    "    def __init__(self, name, mass, position, velocity):\n",
    "        self.name = name\n",
    "        self.mass = mass\n",
    "        self.position = position[:]  # copy to avoid side effects\n",
    "        self.velocity = velocity[:]\n",
    "    \n",
    "    def __str__(self):\n",
    "        return (f\"{self.name}: mass={self.mass} kg, \"\n",
    "                f\"position={self.position} m, velocity={self.velocity} m/s\")\n",
    "\n",
    "def compute_gravitational_force(body1, body2):\n",
    "    \"\"\"\n",
    "    Computes the gravitational force exerted on 'body1' by 'body2'\n",
    "    as a vector [Fx, Fy, Fz].\n",
    "    \"\"\"\n",
    "    # Vector from body1 to body2\n",
    "    dx = body2.position[0] - body1.position[0]\n",
    "    dy = body2.position[1] - body1.position[1]\n",
    "    dz = body2.position[2] - body1.position[2]\n",
    "    \n",
    "    # Distance\n",
    "    r = math.sqrt(dx*dx + dy*dy + dz*dz)\n",
    "    if r == 0:\n",
    "        # Avoid division by zero if positions overlap\n",
    "        return [0.0, 0.0, 0.0]\n",
    "    \n",
    "    # Magnitude of the gravitational force\n",
    "    # F = G * (m1 * m2) / (r^2)\n",
    "    force_magnitude = G * body1.mass * body2.mass / (r**2)\n",
    "    \n",
    "    # Direction vector (normalized)\n",
    "    fx = force_magnitude * (dx / r)\n",
    "    fy = force_magnitude * (dy / r)\n",
    "    fz = force_magnitude * (dz / r)\n",
    "    \n",
    "    return [fx, fy, fz]\n",
    "\n",
    "# --- Step 1 Recap: Define Earth and Moon ---\n",
    "earth = CelestialBody(\n",
    "    name=\"Earth\",\n",
    "    mass=5.97219e24,\n",
    "    position=[0, 0, 0],\n",
    "    velocity=[0, 0, 0]\n",
    ")\n",
    "\n",
    "moon = CelestialBody(\n",
    "    name=\"Moon\",\n",
    "    mass=7.3477e22,\n",
    "    position=[3.844e8, 0, 0],  # ~384,400 km from Earth\n",
    "    velocity=[0, 1.022e3, 0]   # ~1.022 km/s (not used here yet)\n",
    ")\n",
    "\n",
    "# --- Step 2: Calculate and display the forces ---\n",
    "force_on_moon = compute_gravitational_force(moon, earth)\n",
    "force_on_earth = compute_gravitational_force(earth, moon)\n",
    "\n",
    "print(f\"Force on the Moon due to Earth: {force_on_moon} N\")\n",
    "print(f\"Force on the Earth due to Moon: {force_on_earth} N\")\n",
    "\n",
    "# (Optional) Show magnitudes\n",
    "magnitude_moon = math.sqrt(force_on_moon[0]**2 + force_on_moon[1]**2 + force_on_moon[2]**2)\n",
    "magnitude_earth = math.sqrt(force_on_earth[0]**2 + force_on_earth[1]**2 + force_on_earth[2]**2)\n",
    "print(f\"Magnitude of force on Moon: {magnitude_moon:.3e} N\")\n",
    "print(f\"Magnitude of force on Earth: {magnitude_earth:.3e} N\")"
   ]
  },
  {
   "cell_type": "markdown",
   "metadata": {},
   "source": [
    "## Étape 3 : Relation Force–accélération"
   ]
  },
  {
   "cell_type": "code",
   "execution_count": null,
   "metadata": {},
   "outputs": [],
   "source": []
  }
 ],
 "metadata": {
  "kernelspec": {
   "display_name": "base",
   "language": "python",
   "name": "python3"
  },
  "language_info": {
   "codemirror_mode": {
    "name": "ipython",
    "version": 3
   },
   "file_extension": ".py",
   "mimetype": "text/x-python",
   "name": "python",
   "nbconvert_exporter": "python",
   "pygments_lexer": "ipython3",
   "version": "3.12.7"
  }
 },
 "nbformat": 4,
 "nbformat_minor": 2
}
