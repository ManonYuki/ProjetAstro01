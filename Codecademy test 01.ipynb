{
 "cells": [
  {
   "cell_type": "markdown",
   "metadata": {},
   "source": [
    "# Codecademy test 01\n",
    "Tous les tests sont ici"
   ]
  },
  {
   "cell_type": "code",
   "execution_count": null,
   "metadata": {},
   "outputs": [],
   "source": [
    "user_name = \"Dave\"  \n",
    "switch user_name:  \n",
    "    case \"Dave\":  \n",
    "        print(\"Get off my computer Dave!\")  \n",
    "    case \"angela_catlady_87\":  \n",
    "        print(\"I know it is you, Dave! Go away!\")   \n",
    "    case \"Codecademy\":  \n",
    "        print(\"Access Granted.\")  \n",
    "    case default:  \n",
    "        print(\"Username not recognized.\")\n",
    "\n",
    "# C'est la même chose que d'évricre :\n",
    "\n",
    "user_name = \"Dave\"  \n",
    "if user_name == \"Dave\":   \n",
    "    print(\"Get off my computer Dave!\")   \n",
    "elif user_name == \"angela_catlady_87\":   \n",
    "    print(\"I know it is you, Dave! Go away!\")   \n",
    "elif user_name == \"Codecademy\":   \n",
    "    print(\"Access Granted.\")   \n",
    "else:   \n",
    "    print(\"Username not recognized.\")  "
   ]
  }
 ],
 "metadata": {
  "kernelspec": {
   "display_name": "base",
   "language": "python",
   "name": "python3"
  },
  "language_info": {
   "codemirror_mode": {
    "name": "ipython",
    "version": 3
   },
   "file_extension": ".py",
   "mimetype": "text/x-python",
   "name": "python",
   "nbconvert_exporter": "python",
   "pygments_lexer": "ipython3",
   "version": "3.12.7"
  }
 },
 "nbformat": 4,
 "nbformat_minor": 2
}
