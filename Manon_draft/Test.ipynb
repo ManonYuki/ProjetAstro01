{
 "cells": [
  {
   "cell_type": "code",
   "execution_count": null,
   "id": "8f43baa3",
   "metadata": {},
   "outputs": [],
   "source": [
    "import matplotlib.pyplot as plt\n",
    "import numpy as np\n",
    "\n",
    "# Carbonne 14\n",
    "N0 = 1000\n",
    "demi-vie = 5730\n",
    "\n",
    "# Taux de désintégrtion\n",
    "Lambda = "
   ]
  },
  {
   "cell_type": "markdown",
   "id": "75d34f68",
   "metadata": {},
   "source": []
  }
 ],
 "metadata": {
  "language_info": {
   "name": "python"
  }
 },
 "nbformat": 4,
 "nbformat_minor": 5
}
