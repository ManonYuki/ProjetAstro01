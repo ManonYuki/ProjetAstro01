{
 "cells": [
  {
   "cell_type": "markdown",
   "metadata": {},
   "source": [
    "# Codecademy test 01\n",
    "Tous les tests sont ici"
   ]
  },
  {
   "cell_type": "code",
   "execution_count": null,
   "metadata": {},
   "outputs": [],
   "source": [
    "import random\n",
    "\n",
    "name = \"Manon, \"\n",
    "question = \"Are you stupid ?\"\n",
    "answer = \"\"\n",
    "random_number = random.randint(1, 10)\n",
    "\n",
    "if question == \"\":\n",
    "  answer = \"How do you want me to answer an inexistant question ? Think a bit before executing your code.\"\n",
    "elif random_number == 1:\n",
    "  answer = \"Yes - definitely\"\n",
    "elif random_number == 2:\n",
    "  answer = \"It is decidedly so\"\n",
    "elif random_number == 3:\n",
    "  answer = \"Without a doubt\" \n",
    "elif random_number == 4:\n",
    "  answer = \"Reply hazy, try again\"\n",
    "elif random_number == 5:\n",
    "  answer = \"Ask again later\"\n",
    "elif random_number == 6:\n",
    "  answer = \"Better not tell you now\"\n",
    "elif random_number == 7:\n",
    "  answer = \"My sources say no\" \n",
    "elif random_number == 8:\n",
    "  answer = \"Outlook not so good\"\n",
    "elif random_number == 9:\n",
    "  answer = \"Very doubtful\"\n",
    "elif random_number == 10 :\n",
    "  answer = \"I don't know, what do you want !\"\n",
    "else:\n",
    "  answer = \"Error\"\n",
    "\n",
    "print(\"question : \" + question)\n",
    "print(\"Magic 8-Ball's answer : \" + answer)\n",
    "\n"
   ]
  },
  {
   "cell_type": "code",
   "execution_count": null,
   "metadata": {},
   "outputs": [
    {
     "ename": "SyntaxError",
     "evalue": "invalid syntax (3789187975.py, line 2)",
     "output_type": "error",
     "traceback": [
      "\u001b[1;36m  Cell \u001b[1;32mIn[1], line 2\u001b[1;36m\u001b[0m\n\u001b[1;33m    switch user_name:\u001b[0m\n\u001b[1;37m           ^\u001b[0m\n\u001b[1;31mSyntaxError\u001b[0m\u001b[1;31m:\u001b[0m invalid syntax\n"
     ]
    }
   ],
   "source": [
    "user_name = \"Hugo\"  \n",
    "switch user_name:  \n",
    "    case \"Hugo\":  \n",
    "        print(\"Get off my computer !\")  \n",
    "    case \"HugoKeito74\":  \n",
    "        print(\"I know it is you, Hugo ! Go away !\")   \n",
    "    case \"Yukimanjyuu\":  \n",
    "        print(\"Access Granted.\")  \n",
    "    case default:  \n",
    "        print(\"Username not recognized.\")\n",
    "\n",
    "# C'est la même chose que d'évricre :\n",
    "\n",
    "user_name = \"Hugo\"  \n",
    "if user_name == \"Hugo\":   \n",
    "    print(\"Get off my computer !\")   \n",
    "elif user_name == \"HugoKeito74\":   \n",
    "    print(\"I know it is you, Hugo ! Go away !\")   \n",
    "elif user_name == \"Yukimanjyuu\":   \n",
    "    print(\"Access Granted.\")   \n",
    "else:   \n",
    "    print(\"Username not recognized.\") \n",
    "\n",
    "\n",
    "# ça marche même pas ça me soule\n"
   ]
  }
 ],
 "metadata": {
  "kernelspec": {
   "display_name": "Python 3",
   "language": "python",
   "name": "python3"
  },
  "language_info": {
   "codemirror_mode": {
    "name": "ipython",
    "version": 3
   },
   "file_extension": ".py",
   "mimetype": "text/x-python",
   "name": "python",
   "nbconvert_exporter": "python",
   "pygments_lexer": "ipython3",
   "version": "3.12.9"
  }
 },
 "nbformat": 4,
 "nbformat_minor": 2
}
